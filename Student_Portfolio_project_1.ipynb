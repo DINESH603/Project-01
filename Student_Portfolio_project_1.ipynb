{
 "cells": [
  {
   "cell_type": "markdown",
   "id": "64b3e7b4",
   "metadata": {},
   "source": [
    "# Student Portfolio"
   ]
  },
  {
   "cell_type": "code",
   "execution_count": null,
   "id": "ee28b243",
   "metadata": {},
   "outputs": [],
   "source": [
    "#Reading the input from the user\n",
    "\n",
    "print('WELCOME TO COLLEGE FINDER  PLEASE FILL THE FOLLOWING DETAILS')\n",
    "print('-'*70)\n",
    "Name=input('Enter the your name\\n')\n",
    "Class=int(input('Enter class name\\n'))\n",
    "Section=input('Enter your Section A/B/C')\n",
    "Roll=int(input('Enter enter your  Roll Number\\n'))\n",
    "print('Please enter your 3 core subjects\\n ')\n",
    "subject1=input('subject1:\\t')\n",
    "subject2=input('subject2:\\t')\n",
    "subject3=input('subject3:\\t')\n",
    "percentage=float(input('Enter your Aggregate Percentage\\n'))\n"
   ]
  },
  {
   "cell_type": "code",
   "execution_count": 32,
   "id": "a04606a0",
   "metadata": {},
   "outputs": [],
   "source": [
    "#Assigning the Grade based on the Aggregate percentage\n",
    "\n",
    "if (percentage>=75.0):\n",
    "    Grade='Ditinction'\n",
    "elif (percentage>=60.0):\n",
    "    Grade='First Class'\n",
    "elif (percentage>=50):\n",
    "    Grade='Secenod class'\n",
    "elif (percentage>=40):\n",
    "    Grade='Pass'\n",
    "else:\n",
    "    Grade='Fail'"
   ]
  },
  {
   "cell_type": "code",
   "execution_count": 37,
   "id": "8c1a6f20",
   "metadata": {},
   "outputs": [
    {
     "name": "stdout",
     "output_type": "stream",
     "text": [
      "  Student Details \n",
      "--------------------\n",
      "Name of the student:\tDINESH \n",
      "\n",
      "Dear DINESH You have studied  12 th class \n",
      "\n",
      "Your section: C With Roll.no 256 \n",
      "\n",
      "following are the 3 core  subjects you have chosen\n",
      "\n",
      "Subject1: MATHS\n",
      "Subject2: PHYSICS\n",
      "Subject2: CHEMISTRY \n",
      "\n",
      "CONGRATULATIONS You have got First Class Grade \n",
      "\n",
      "Best wishes,All the best for future endeavours \n",
      "\n"
     ]
    }
   ],
   "source": [
    "#Printing student details \n",
    "\n",
    "print('  Student Details ')\n",
    "print('-'*20)\n",
    "print('Name of the student:\\t'+Name.upper(),'\\n')\n",
    "print('Dear '+Name.upper(),'You have studied ',Class,'th class \\n')\n",
    "print('Your section: '+Section,'With Roll.no',Roll,'\\n')\n",
    "print('following are the 3 core  subjects you have chosen\\n')\n",
    "print('Subject1: '+subject1.upper())\n",
    "print('Subject2: '+subject2.upper())\n",
    "print('Subject2: '+subject3.upper(),'\\n')\n",
    "print('CONGRATULATIONS You have got '+Grade,'Grade \\n')\n",
    "print('Best wishes,All the best for future endeavours \\n')\n"
   ]
  },
  {
   "cell_type": "code",
   "execution_count": null,
   "id": "75e68c93",
   "metadata": {},
   "outputs": [],
   "source": []
  }
 ],
 "metadata": {
  "kernelspec": {
   "display_name": "Python 3",
   "language": "python",
   "name": "python3"
  },
  "language_info": {
   "codemirror_mode": {
    "name": "ipython",
    "version": 3
   },
   "file_extension": ".py",
   "mimetype": "text/x-python",
   "name": "python",
   "nbconvert_exporter": "python",
   "pygments_lexer": "ipython3",
   "version": "3.8.8"
  }
 },
 "nbformat": 4,
 "nbformat_minor": 5
}
